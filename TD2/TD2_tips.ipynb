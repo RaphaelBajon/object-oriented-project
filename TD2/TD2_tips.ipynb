{
 "cells": [
  {
   "cell_type": "markdown",
   "id": "47aaa8ee-428c-4afa-8a4c-b2746b3306d6",
   "metadata": {},
   "source": [
    "**Conseils et certaines réponses pour la fin du précédent TD (TD2)**\n",
    "\n",
    "La définition de classe a été vue dans ce TD. Certaines classes peuvent dépendre les unes des autres. Sans rentrer dans les détails et la création de sous-classe, ici la classe `RobotSimple` nécessite d'avoir au préalable créé la classe `Point`. "
   ]
  },
  {
   "cell_type": "code",
   "execution_count": 2,
   "id": "be86f1be-1274-4261-b78c-ada4264f3b85",
   "metadata": {},
   "outputs": [
    {
     "name": "stdout",
     "output_type": "stream",
     "text": [
      "(7,10)\n",
      "(12,16)\n"
     ]
    }
   ],
   "source": [
    "class Point(object):\n",
    "    def __init__(self,x,y):\n",
    "        self.x = x\n",
    "        self.y = y\n",
    "    def get_y(self):\n",
    "        return self.y\n",
    "    def get_x(self):\n",
    "        return self.x\n",
    "    def set_y(self, y):\n",
    "        self.y = y\n",
    "    def set_x(self, x):\n",
    "        self.x = x\n",
    "    def __add__(self, other):\n",
    "        return Point(self.x + other.x, self.y + other.y)\n",
    "    def __mul__(self, constant):\n",
    "        if type(constant) == int:\n",
    "            return Point(self.x * constant, self.y * constant)\n",
    "        else:\n",
    "            return 'erreur'\n",
    "    def __str__(self):\n",
    "        return \"(\" + str(self.x) + \",\" + str(self.y) + \")\"\n",
    "        \n",
    "p1 = Point(3, 4)  \n",
    "p2 = Point(4, 6)\n",
    "p3 = p1 + p2\n",
    "print(p3)\n",
    "p4 = p1 * 4\n",
    "print(p4)"
   ]
  },
  {
   "cell_type": "code",
   "execution_count": 5,
   "id": "874f64ce-9f70-419d-b598-a06803052451",
   "metadata": {},
   "outputs": [
    {
     "name": "stdout",
     "output_type": "stream",
     "text": [
      "(4,4)\n"
     ]
    }
   ],
   "source": [
    "class RobotSimple(object):\n",
    "    \"\"\" \n",
    "    Robot qui sait avancer d’une case et pivoter à droite de 90°.\n",
    "    Il est repéré par sa position et sa direction.\n",
    "    \"\"\"\n",
    "    # des attributs de classe \n",
    "    # inutile si on donne d = {'N': 1, 'E': 2, 'S': 3, 'W': 0} \n",
    "    #On donne directement un entier \n",
    "\n",
    "    def __init__(self, x, y, direction):\n",
    "        \"\"\" \n",
    "        Initialiser le robot self à partir de sa position (x, y) et sa direction.\n",
    "        On donne directement, l'abscisse et l'ordonné mais on peut créer le point qui sert en variable d'instance.\n",
    "        \"\"\"\n",
    "        self.position = Point(x, y)\n",
    "        self.direction = direction\n",
    "\n",
    "    def avancer(self):\n",
    "        \"\"\" Avancer d’une case dans la direction. \"\"\"\n",
    "        if self.direction == 1:\n",
    "            vN = Point(0, 1)\n",
    "            self.position = self.position + vN\n",
    "        elif self.direction == 2:\n",
    "            vE = Point(1, 0)\n",
    "            self.position = self.position + vE\n",
    "        elif self.direction == 3:\n",
    "            vS = Point(0, -1)\n",
    "            self.position = self.position + vS\n",
    "        else:\n",
    "            vW = Point(-1, 0)\n",
    "            self.position = self.position + vW     \n",
    "\n",
    "    def pivoter(self):\n",
    "        \"\"\" Pivoter ce robot de 90° vers la droite. \"\"\"\n",
    "        self.direction = (self.direction + 1) % 4\n",
    "    \n",
    "    def __str__(self):\n",
    "        return str(self.position)\n",
    "    \n",
    "rb1 = RobotSimple(4, 4, 1)   \n",
    "print(rb1)"
   ]
  },
  {
   "cell_type": "code",
   "execution_count": null,
   "id": "54987d1c-ebae-4063-a3cb-b8ea78985f93",
   "metadata": {},
   "outputs": [],
   "source": []
  }
 ],
 "metadata": {
  "kernelspec": {
   "display_name": "argopy-tests",
   "language": "python",
   "name": "argopy-tests"
  },
  "language_info": {
   "codemirror_mode": {
    "name": "ipython",
    "version": 3
   },
   "file_extension": ".py",
   "mimetype": "text/x-python",
   "name": "python",
   "nbconvert_exporter": "python",
   "pygments_lexer": "ipython3",
   "version": "3.8.13"
  }
 },
 "nbformat": 4,
 "nbformat_minor": 5
}

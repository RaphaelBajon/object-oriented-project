{
 "cells": [
  {
   "cell_type": "markdown",
   "id": "0fbefa1a-f057-4798-a8c7-f8f771700478",
   "metadata": {},
   "source": [
    "**Conseils et certaines réponses pour la fin du précédent TD**\n",
    "\n",
    "Plusieurs thèmes dans le précédent TD ont été vus, notamment la notion importante d'`import` pour plusieurs bibliothèques (`numpy`, `pylab`) ou des fonctions créées dans un fichier `.py` parent, avec l'aide de `sys`,`os`."
   ]
  },
  {
   "cell_type": "code",
   "execution_count": 6,
   "id": "5a513563-1a66-45dd-8333-2091894efb8a",
   "metadata": {},
   "outputs": [],
   "source": [
    "import os\n",
    "import sys\n",
    "sys.path.insert(0, os.path.abspath('TD2'))\n",
    "# to see the different paths\n",
    "#print(sys.path)"
   ]
  },
  {
   "cell_type": "markdown",
   "id": "fb581446-713c-42d5-a384-9589f4c23cd9",
   "metadata": {},
   "source": [
    "*Version n°2 de l'avant dernier exercice : utilisation de classe*\n",
    "\n",
    "On récupère le code du CM2, `class Coordinate` ( `__init__` et `__str__` uniquement)"
   ]
  },
  {
   "cell_type": "code",
   "execution_count": 2,
   "id": "12bd99b8-76cf-41d0-87e2-6dc369aeeb20",
   "metadata": {},
   "outputs": [
    {
     "name": "stdout",
     "output_type": "stream",
     "text": [
      "<0,0>\n"
     ]
    }
   ],
   "source": [
    "class Point(object):\n",
    "    def __init__(self, x, y):\n",
    "        self.x = x\n",
    "        self.y = y\n",
    "    def __str__(self):\n",
    "        return \"<\" + str(self.x) +\",\" + str(self.y) + \">\"\n",
    "p0 = Point(0,0)\n",
    "print(p0)"
   ]
  },
  {
   "cell_type": "code",
   "execution_count": 3,
   "id": "3f17abad-308a-4892-bcc1-bda01af03dbc",
   "metadata": {},
   "outputs": [
    {
     "name": "stdout",
     "output_type": "stream",
     "text": [
      "[0, 0]\n"
     ]
    },
    {
     "data": {
      "image/png": "[encoded data removed]",
      "text/plain": [
       "<Figure size 432x288 with 1 Axes>"
      ]
     },
     "metadata": {
      "needs_background": "light"
     },
     "output_type": "display_data"
    }
   ],
   "source": [
    "import pylab\n",
    "p1 = p0\n",
    "p2 = Point(0,10)\n",
    "p3 = Point(10,10)\n",
    "p4 = Point(10,0)\n",
    "s1 = [p1.x, p2.x]\n",
    "print(s1)\n",
    "def affichecarre(pa, pb, pc, pd):\n",
    "    pylab.figure(1) #create figure 1\n",
    "    pylab.plot([pa.x, pb.x, pc.x, pd.x, pa.x], [pa.y, pb.y, pc.y, pd.y, pa.y] )# draw on figure 1\n",
    "    pylab.show() #show figure on screen\n",
    "affichecarre(p1, p2, p3, p4)  "
   ]
  },
  {
   "cell_type": "markdown",
   "id": "87be0eda-9de4-47dd-a860-494039f22902",
   "metadata": {},
   "source": [
    "## Tri à bulles \n",
    "Plusieurs versions existent, en voici une. "
   ]
  },
  {
   "cell_type": "code",
   "execution_count": 7,
   "id": "b93e6ab4-260e-4855-8839-f447e26cfffb",
   "metadata": {},
   "outputs": [
    {
     "name": "stdout",
     "output_type": "stream",
     "text": [
      "Avant le tri [1, 3, 5, 7, 2, 6, 25, 18, 13]\n",
      "---\n",
      "Bubble sort: [1, 3, 5, 7, 2, 6, 25, 18, 13]\n",
      "Bubble [1, 3, 5, 7, 2, 6, 25, 18, 13]\n",
      "Bubble sort: [1, 3, 5, 2, 6, 7, 18, 13, 25]\n",
      "Bubble [1, 3, 5, 2, 6, 7, 18, 13, 25]\n",
      "Bubble sort: [1, 3, 2, 5, 6, 7, 13, 18, 25]\n",
      "Bubble [1, 3, 2, 5, 6, 7, 13, 18, 25]\n",
      "Bubble sort: [1, 2, 3, 5, 6, 7, 13, 18, 25]\n",
      "Bubble [1, 2, 3, 5, 6, 7, 13, 18, 25]\n",
      "Après le tri Lsort [1, 2, 3, 5, 6, 7, 13, 18, 25] et Nb de permutations 7\n",
      "Après le tri Testlist [1, 2, 3, 5, 6, 7, 13, 18, 25]\n"
     ]
    }
   ],
   "source": [
    "def bubble_sort(L):\n",
    "    swap = False\n",
    "    n = 0\n",
    "    while not swap:\n",
    "        print('Bubble sort: ' + str(L))\n",
    "        print('Bubble', L)\n",
    "        swap = True\n",
    "        for j in range(1, len(L)):\n",
    "            if L[j-1] > L[j]:\n",
    "                n += 1\n",
    "                swap = False\n",
    "                temp = L[j]\n",
    "                L[j] = L[j-1]\n",
    "                L[j-1] = temp\n",
    "    return L, n # liste modifiée\n",
    "testList = [1, 3, 5, 7, 2, 6, 25, 18, 13]\n",
    "print('Avant le tri', testList)\n",
    "print('---')\n",
    "Lsort = bubble_sort(testList)\n",
    "print('Après le tri Lsort', Lsort[0], 'et Nb de permutations', Lsort[1])\n",
    "print('Après le tri Testlist', testList)"
   ]
  },
  {
   "cell_type": "code",
   "execution_count": null,
   "id": "886e216f-a7cf-44a4-a6ec-15c597d8b782",
   "metadata": {},
   "outputs": [],
   "source": []
  }
 ],
 "metadata": {
  "kernelspec": {
   "display_name": "Python 3 (ipykernel)",
   "language": "python",
   "name": "python3"
  },
  "language_info": {
   "codemirror_mode": {
    "name": "ipython",
    "version": 3
   },
   "file_extension": ".py",
   "mimetype": "text/x-python",
   "name": "python",
   "nbconvert_exporter": "python",
   "pygments_lexer": "ipython3",
   "version": "3.8.13"
  }
 },
 "nbformat": 4,
 "nbformat_minor": 5
}

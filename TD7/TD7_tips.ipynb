{
 "cells": [
  {
   "cell_type": "markdown",
   "id": "9ed507e3-e89c-47be-9014-4060e535cbe2",
   "metadata": {},
   "source": [
    "Liste des `import` à faire. Ce TD reprend le CM7 vu en cours.  "
   ]
  },
  {
   "cell_type": "code",
   "execution_count": 1,
   "id": "66db409f-71ff-4d32-af8a-d6fdd890b7f4",
   "metadata": {},
   "outputs": [],
   "source": [
    "import json"
   ]
  },
  {
   "cell_type": "markdown",
   "id": "ecc3a2a5-a9a9-424a-8beb-dee1867955a4",
   "metadata": {},
   "source": [
    "### Classe pour les scores"
   ]
  },
  {
   "cell_type": "code",
   "execution_count": 2,
   "id": "5296eb05-0a4b-4edb-8bca-e5f772dad0c6",
   "metadata": {},
   "outputs": [],
   "source": [
    "class Score(object):\n",
    "    def __init__(self, joueur, score):\n",
    "        self.joueur = joueur\n",
    "        self.score = score\n",
    "\n",
    "    def __str__(self):\n",
    "        return \"joueur : \" + self.joueur + \" - score : \" + str(self.score) + \"\\n\"\n",
    "\n",
    "    def toFile(self, fich):\n",
    "        f = open(fich, \"w\")\n",
    "        s = self\n",
    "        json.dump(s.__dict__, f)\n",
    "        f.close()\n",
    "\n",
    "    @classmethod\n",
    "    def fromFile(cls, fich):\n",
    "        f = open(fich, \"r\")\n",
    "        d = json.load(f)\n",
    "        nvs = Score(d[\"joueur\"], d[\"score\"])\n",
    "        f.close()\n",
    "        return nvs"
   ]
  },
  {
   "cell_type": "code",
   "execution_count": 13,
   "id": "cd53430a-cb00-467b-937d-65b063cdcee0",
   "metadata": {},
   "outputs": [],
   "source": [
    "Score('bjr', 'bjr').toFile(\"bjr.txt\")"
   ]
  },
  {
   "cell_type": "markdown",
   "id": "780144d9-524a-4c23-bf99-d7fac7454f5d",
   "metadata": {},
   "source": [
    "### Classe pour les résultats"
   ]
  },
  {
   "cell_type": "code",
   "execution_count": 10,
   "id": "66150946-b5d6-4f29-939f-0b5fea6a93e8",
   "metadata": {},
   "outputs": [],
   "source": [
    "class Resultats(object):\n",
    "    def __init__(self):\n",
    "            self.lesScores = []\n",
    "\n",
    "    def ajout(self, score):\n",
    "            self.lesScores.append(score)\n",
    "\n",
    "    def __str__(self):\n",
    "            chaine = str(self.lesScores[0])\n",
    "            for e in self.lesScores[1:]:\n",
    "                chaine = chaine + str(e)\n",
    "            return chaine\n",
    "\n",
    "    def toFile(self, fic):\n",
    "        f = open(fic, \"w\")\n",
    "        tmp = []\n",
    "        for s in self.lesScores:\n",
    "            d = {\"joueur\": s.joueur, \"score\": s.score}  # creer un dictionnaire\n",
    "            tmp.append(d)\n",
    "        json.dump(tmp, f)\n",
    "        f.close()\n",
    "\n",
    "    @classmethod\n",
    "    def fromFile(cls, fic):\n",
    "        f = open(fic, \"r\")\n",
    "        tmp = json.load(f)  # chargement\n",
    "        liste = []\n",
    "        for d in tmp:  # creer un livre\n",
    "            s = Score(d[\"joueur\"], d[\"score\"])\n",
    "            liste.append(s)  # l'ajouter dans la liste\n",
    "        res = Resultats()\n",
    "        res.lesScores = liste\n",
    "        f.close()\n",
    "        return res\n",
    "\n",
    "    def clear(self, fic):  # methode pour reinitialiser le fichier contenant les scores\n",
    "        f = open(fic, \"w\")\n",
    "        f.truncate(0)\n",
    "        f.write(\"[]\")"
   ]
  },
  {
   "cell_type": "markdown",
   "id": "78c5a591-86c2-488f-9bcd-9605a12df62e",
   "metadata": {},
   "source": [
    "### Run"
   ]
  },
  {
   "cell_type": "code",
   "execution_count": 11,
   "id": "e2b32192-93ac-4b78-af26-e83e2644ef04",
   "metadata": {},
   "outputs": [
    {
     "name": "stdout",
     "output_type": "stream",
     "text": [
      "file not found, creating it\n"
     ]
    },
    {
     "name": "stdin",
     "output_type": "stream",
     "text": [
      "nom du joueur :  raph\n",
      "score :  999\n"
     ]
    },
    {
     "name": "stdout",
     "output_type": "stream",
     "text": [
      "joueur : raph - score : 999\n",
      "joueur : Lionel Messi - score : 666\n",
      "\n"
     ]
    }
   ],
   "source": [
    "try:\n",
    "    scoreBank = Resultats.fromFile(\"lesScores.json\")\n",
    "except IOError:\n",
    "    print(\"file not found, creating it\")\n",
    "    fichier = open(\"lesScores.json\", \"w\")\n",
    "    fichier.write(\"[]\")\n",
    "    fichier.close()\n",
    "    scoreBank = Resultats.fromFile(\"lesScores.json\")\n",
    "finally:\n",
    "    nom = input(\"nom du joueur : \")\n",
    "    score = int(input(\"score : \"))\n",
    "    s = Score(str(nom), score)\n",
    "    snew = Score('Lionel Messi', 666) # qui ne sera pas rentré à la main.. \n",
    "    scoreBank.ajout(s)\n",
    "    scoreBank.ajout(snew)\n",
    "    scoreBank.toFile(\"lesScores.json\")\n",
    "    #scoreBank.clear(\"lesScores.json\")  # ligne optionnelle, si on veut reinitialiser le fichier des scores\n",
    "    print(scoreBank)"
   ]
  },
  {
   "cell_type": "code",
   "execution_count": null,
   "id": "82702d53-2efe-43c9-b74a-2edd22b709e7",
   "metadata": {},
   "outputs": [],
   "source": []
  }
 ],
 "metadata": {
  "kernelspec": {
   "display_name": "working-env",
   "language": "python",
   "name": "working-env"
  },
  "language_info": {
   "codemirror_mode": {
    "name": "ipython",
    "version": 3
   },
   "file_extension": ".py",
   "mimetype": "text/x-python",
   "name": "python",
   "nbconvert_exporter": "python",
   "pygments_lexer": "ipython3",
   "version": "3.8.13"
  }
 },
 "nbformat": 4,
 "nbformat_minor": 5
}

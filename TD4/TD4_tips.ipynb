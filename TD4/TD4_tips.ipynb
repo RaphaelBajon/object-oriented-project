{
 "cells": [
  {
   "cell_type": "code",
   "execution_count": null,
   "id": "62c1697b-83ba-4da4-88fd-7e6ca3b49052",
   "metadata": {},
   "outputs": [],
   "source": []
  },
  {
   "cell_type": "markdown",
   "id": "3a2ada9f-1556-4f87-9a87-6e515d60e628",
   "metadata": {},
   "source": [
    "### 1st : Suite et récursivité "
   ]
  },
  {
   "cell_type": "code",
   "execution_count": 1,
   "id": "cfdc4f3f-f79a-4404-bf40-c14d0fc47b1e",
   "metadata": {},
   "outputs": [
    {
     "data": {
      "text/plain": [
       "18"
      ]
     },
     "execution_count": 1,
     "metadata": {},
     "output_type": "execute_result"
    }
   ],
   "source": [
    "import random as rd\n",
    "rd.randint(0,20)"
   ]
  },
  {
   "cell_type": "markdown",
   "id": "20a3a7e4-93b8-43b7-a53b-b399e16c6418",
   "metadata": {},
   "source": [
    "En premier, définir la suite, bien à part, pour bien la dissocier de notre objet `ListeSuite` et l'appeler dans ses sous-fonctions. "
   ]
  },
  {
   "cell_type": "code",
   "execution_count": 3,
   "id": "2bb4b2c0-127c-4297-b493-fa2ce537c697",
   "metadata": {},
   "outputs": [
    {
     "name": "stdout",
     "output_type": "stream",
     "text": [
      "0 6\n",
      "1 9\n",
      "2 15\n",
      "3 27\n",
      "4 -7\n",
      "5 -17\n",
      "6 -37\n",
      "7 -77\n",
      "8 -157\n",
      "9 -317\n",
      "10 -637\n",
      "11 -1277\n",
      "12 -2557\n",
      "13 -5117\n",
      "14 -10237\n",
      "15 -20477\n",
      "16 -40957\n",
      "17 -81917\n",
      "18 -163837\n",
      "19 -327677\n"
     ]
    }
   ],
   "source": [
    "U0 = rd.randint(0,10) \n",
    "def Un(n):\n",
    "    if n == 0:\n",
    "        return U0\n",
    "    elif (Un(n-1)) < 25:\n",
    "        return Un(n-1) * 2 - 3\n",
    "    else:\n",
    "        return 20 - Un(n-1)\n",
    "for i in range(0, 20):\n",
    "    print(i, Un(i))"
   ]
  },
  {
   "cell_type": "markdown",
   "id": "9b0f830f-9b56-479a-8c34-94038fc521c2",
   "metadata": {},
   "source": [
    "En second, définir notre objet `ListeSuite`."
   ]
  },
  {
   "cell_type": "code",
   "execution_count": 4,
   "id": "264723f4-756a-465e-b732-1d0839a58610",
   "metadata": {},
   "outputs": [
    {
     "name": "stdout",
     "output_type": "stream",
     "text": [
      "taille = 0, []\n",
      "taille = 20, [6, 9, 15, 27, -7, -17, -37, -77, -157, -317, -637, -1277, -2557, -5117, -10237, -20477, -40957, -81917, -163837, -327677]\n"
     ]
    }
   ],
   "source": [
    "class ListeSuite(object):\n",
    "    def __init__(self):\n",
    "        self.taille = 0\n",
    "        self.liste = []\n",
    "    def get_taille(self):\n",
    "        return self.taille\n",
    "    def get_liste(self):\n",
    "        return self.liste\n",
    "    def set_taille(self, taille):\n",
    "        self.taille = taille\n",
    "        self.suite()\n",
    "    def set_liste(self, liste):\n",
    "        self.liste = liste\n",
    "    def __str__(self):\n",
    "        return \"taille = \" + str(self.taille) + \", \" + str(self.liste)\n",
    "\n",
    "    def suite(self):\n",
    "        for i in range(self.taille):\n",
    "            self.liste.append(Un(i))\n",
    "            \n",
    "maListe = ListeSuite()\n",
    "print(maListe) \n",
    "maListe.set_taille(20)\n",
    "print(maListe)"
   ]
  },
  {
   "cell_type": "markdown",
   "id": "cf7bdb38-2e7a-4d12-9bd5-1e22cb416d23",
   "metadata": {},
   "source": [
    "### 2nde partie sur le tri-fusion"
   ]
  },
  {
   "cell_type": "markdown",
   "id": "71f9c008-e0e7-47c7-ab42-0c77cf86b8b2",
   "metadata": {},
   "source": [
    "Dissociation du tri-fusion en plusieurs sous-fonctions (`fusion`,  `tri_fusion_recursif` et `tri_fusion`)."
   ]
  },
  {
   "cell_type": "code",
   "execution_count": 5,
   "id": "f6d79cb8-8e0b-4535-ad95-8d10def4929e",
   "metadata": {},
   "outputs": [
    {
     "name": "stdout",
     "output_type": "stream",
     "text": [
      "Liste initiale :  [16, 14, 6, 5, 17, 3, 14, 13, 4, 5, 4]\n",
      "séparation :  [16, 14, 6, 5, 17] [3, 14, 13, 4, 5, 4]\n",
      "séparation :  [16, 14] [6, 5, 17]\n",
      "séparation :  [16] [14]\n",
      "fusion :  [14, 16]\n",
      "séparation :  [6] [5, 17]\n",
      "séparation :  [5] [17]\n",
      "fusion :  [5, 17]\n",
      "fusion :  [5, 6, 17]\n",
      "fusion :  [5, 6, 14, 16, 17]\n",
      "séparation :  [3, 14, 13] [4, 5, 4]\n",
      "séparation :  [3] [14, 13]\n",
      "séparation :  [14] [13]\n",
      "fusion :  [13, 14]\n",
      "fusion :  [3, 13, 14]\n",
      "séparation :  [4] [5, 4]\n",
      "séparation :  [5] [4]\n",
      "fusion :  [4, 5]\n",
      "fusion :  [4, 4, 5]\n",
      "fusion :  [3, 4, 4, 5, 13, 14]\n",
      "fusion :  [3, 4, 4, 5, 5, 6, 13, 14, 14, 16, 17]\n"
     ]
    }
   ],
   "source": [
    "import random\n",
    "\n",
    "def fusion(L1, L2):\n",
    "    n1 = len(L1)\n",
    "    n2 = len(L2)\n",
    "    L12 = [0] * (n1 + n2)\n",
    "    i1 = 0\n",
    "    i2 = 0\n",
    "    i = 0\n",
    "    while i1 < n1 and i2 < n2:\n",
    "        if L1[i1] < L2[i2]:\n",
    "            L12[i] = L1[i1]\n",
    "            i1 += 1\n",
    "        else:\n",
    "            L12[i] = L2[i2]\n",
    "            i2 += 1\n",
    "        i += 1\n",
    "    if i1 < n1:\n",
    "        while i1 < n1:\n",
    "            L12[i] = L1[i1]\n",
    "            i1 += 1\n",
    "            i += 1\n",
    "    else:\n",
    "        while i2 < n2:\n",
    "            L12[i] = L2[i2]\n",
    "            i2 += 1\n",
    "            i += 1\n",
    "    return L12\n",
    "\n",
    "def tri_fusion_recursif(L):\n",
    "    n = len(L)\n",
    "    if n > 1:\n",
    "        p = int(n / 2)\n",
    "        L1 = L[0:p]\n",
    "        L2 = L[p:n]\n",
    "        print(\"séparation : \", L1, L2)\n",
    "        tri_fusion_recursif(L1)\n",
    "        tri_fusion_recursif(L2)\n",
    "        L[:] = fusion(L1, L2)\n",
    "        print(\"fusion : \", L)\n",
    "    \n",
    "def tri_fusion(L):\n",
    "    M = list(L)\n",
    "    tri_fusion_recursif(M)\n",
    "    return M\n",
    "                  \n",
    "liste = []\n",
    "for k in range(11):\n",
    "    liste.append(random.randint(0, 20))\n",
    "print(\"Liste initiale : \", liste)\n",
    "liste_triee = tri_fusion(liste)"
   ]
  },
  {
   "cell_type": "markdown",
   "id": "de21f66e-3f90-417e-9842-2a1b1199ce4a",
   "metadata": {},
   "source": [
    "### À vous de jouer ! "
   ]
  },
  {
   "cell_type": "markdown",
   "id": "6c138d15-11be-4942-9877-e9116183677e",
   "metadata": {},
   "source": [
    "À vous maintenant de l'implémenter dans notre `ListeSuite`, sous deux fonctions, `fusion`et `tri_fusion'."
   ]
  },
  {
   "cell_type": "code",
   "execution_count": 10,
   "id": "360ca9e8-ca9e-433b-a0ab-bff54a473131",
   "metadata": {},
   "outputs": [],
   "source": [
    "class ListeSuite(object):\n",
    "    def __init__(self):\n",
    "        self.taille = 0\n",
    "        self.liste = []\n",
    "    def get_taille(self):\n",
    "        return self.taille\n",
    "    def get_liste(self):\n",
    "        return self.liste\n",
    "    def set_taille(self, taille):\n",
    "        self.taille = taille\n",
    "        self.suite()\n",
    "    def set_liste(self, liste):\n",
    "        self.liste = liste\n",
    "    def __str__(self):\n",
    "        return \"taille = \" + str(self.taille) + \", \" + str(self.liste)\n",
    "\n",
    "    def suite(self):\n",
    "        for i in range(self.taille):\n",
    "            self.liste.append(Un(i))\n",
    "\n",
    "    def fusion(self, other):\n",
    "        ...\n",
    "        pass\n",
    "    \n",
    "    def tri_fusion(self):\n",
    "        ...\n",
    "        pass"
   ]
  }
 ],
 "metadata": {
  "kernelspec": {
   "display_name": "argopy-tests",
   "language": "python",
   "name": "argopy-tests"
  },
  "language_info": {
   "codemirror_mode": {
    "name": "ipython",
    "version": 3
   },
   "file_extension": ".py",
   "mimetype": "text/x-python",
   "name": "python",
   "nbconvert_exporter": "python",
   "pygments_lexer": "ipython3",
   "version": "3.8.13"
  }
 },
 "nbformat": 4,
 "nbformat_minor": 5
}

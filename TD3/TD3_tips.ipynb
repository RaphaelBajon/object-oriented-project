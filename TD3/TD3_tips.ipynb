{
 "cells": [
  {
   "cell_type": "markdown",
   "id": "645d0087-16d5-4c70-b150-bbef2bfcea1d",
   "metadata": {},
   "source": [
    "**Conseils et certaines réponses pour la fin du précédent TD (TD3)**\n",
    "\n",
    "Manipulation de classes, de listes d'étudiants et de notes. "
   ]
  },
  {
   "cell_type": "code",
   "execution_count": 25,
   "id": "efc6b674-e85d-412f-bb39-417f86430f6d",
   "metadata": {},
   "outputs": [],
   "source": [
    "##############\n",
    "## EXAMPLE: a set of integers as class\n",
    "##############\n",
    "class intSet(object):\n",
    "    \"\"\"\n",
    "    An intSet is a set of integers\n",
    "    The value is represented by a list of ints, self.vals\n",
    "    Each int in the set occurs in self.vals exactly once\n",
    "    \"\"\"\n",
    "    def __init__(self):\n",
    "        \"\"\" Create an empty set of integers \"\"\"\n",
    "        self.vals = []\n",
    "\n",
    "    def insert(self, e):\n",
    "        print(self.member(e))\n",
    "        if not (self.member(e)):\n",
    "            self.vals.append(e)\n",
    "\n",
    "    def member(self, e):\n",
    "        return e in self.vals\n",
    "\n",
    "    def remove(self, e):\n",
    "        \"\"\" Assumes e is an integer and removes e from self\n",
    "        Raises ValueError if e is not in self \"\"\"\n",
    "        try:\n",
    "            self.vals.remove(e)\n",
    "        except:\n",
    "            raise ValueError(str(e) + ' not found')\n",
    "\n",
    "    def __str__(self):\n",
    "        if len(self.vals) == 0:\n",
    "            return \"{}\"\n",
    "        else:\n",
    "            return \"{\" + str(self.vals)[1:-1] + \"}\" "
   ]
  },
  {
   "cell_type": "code",
   "execution_count": 26,
   "id": "0386165d-8be0-4321-bdd3-d68d5ce850df",
   "metadata": {},
   "outputs": [],
   "source": [
    "class intBag(object):\n",
    "    \"\"\"\n",
    "    An intBag is a Bag of integers\n",
    "    The value is represented by a list of ints, un dictionnaire\n",
    "    conserve les occurrences des éléments\n",
    "    \"\"\"\n",
    "    def __init__(self):\n",
    "        \"\"\" Create an empty set of integers \"\"\"\n",
    "        self.vals = []\n",
    "        self.dic = {}\n",
    "\n",
    "    def insert(self, e):\n",
    "        \"\"\" Rajoute et met à jour le dictionnaire \"\"\"\n",
    "        self.vals.append(e)\n",
    "        if e in self.dic:\n",
    "            self.dic[e] += 1\n",
    "        else: \n",
    "            self.dic[e] = 1\n",
    "\n",
    "    def member(self, e):\n",
    "        \"\"\" Assumes e is an integer\n",
    "        Returns True if e is in self, and False otherwise \"\"\"\n",
    "        return e in self.vals\n",
    "\n",
    "    def remove(self, e):\n",
    "        if e in self.dic:\n",
    "            if self.dic[e] == 1:\n",
    "                del(self.dic[e])\n",
    "            else: self.dic[e] -= 1\n",
    "        self.vals.remove(e)   \n",
    "         \n",
    "    def __str__(self):\n",
    "        \"\"\" Returns a string representation of self \"\"\"\n",
    "        self.vals.sort()\n",
    "        return \"valeurs:\" + str(self.vals)+ \" \" + \"dic\" + str(self.dic)"
   ]
  },
  {
   "cell_type": "markdown",
   "id": "3f07f870-229b-4588-bb4c-44ab7e657273",
   "metadata": {},
   "source": [
    "### Travail sur la liste d'étudiants"
   ]
  },
  {
   "cell_type": "code",
   "execution_count": 27,
   "id": "54de9b11-0fc0-448b-a40b-6d98f02214a4",
   "metadata": {},
   "outputs": [
    {
     "name": "stdout",
     "output_type": "stream",
     "text": [
      "['Bi Aline', 'Bi Thomas', 'Bush Kate', 'Buzz Paul', 'Dupond Xavier', 'Durand Lise', 'Durand Marie', 'Pot Bernard', 'Tian Lou', 'Valerie Pierre']\n",
      "<class 'list'>\n"
     ]
    },
    {
     "data": {
      "text/plain": [
       "'Buzz Paul'"
      ]
     },
     "execution_count": 27,
     "metadata": {},
     "output_type": "execute_result"
    }
   ],
   "source": [
    "Etudiants = ['Lise Durand', 'Paul Buzz', 'Thomas Bi', 'Lou Tian', 'Xavier Dupond','Aline Bi', 'Pierre Valerie', 'Marie Durand', 'Bernard Pot', 'Kate Bush']\n",
    "EtudiantsN = []\n",
    "for n in Etudiants:\n",
    "    t = n.split(' ')\n",
    "    t.reverse()\n",
    "    Snew = ' '.join(t)\n",
    "    EtudiantsN.append(Snew)\n",
    "sortedL = sorted(EtudiantsN)\n",
    "print(sortedL)\n",
    "print(type(sortedL))\n",
    "sortedL[3]"
   ]
  },
  {
   "cell_type": "code",
   "execution_count": 28,
   "id": "0da194b5-f2bc-4ac9-bef4-545761d0fd57",
   "metadata": {},
   "outputs": [
    {
     "data": {
      "text/plain": [
       "{'groupe0': [], 'groupe1': [], 'groupe2': []}"
      ]
     },
     "execution_count": 28,
     "metadata": {},
     "output_type": "execute_result"
    }
   ],
   "source": [
    "def groupe(i):\n",
    "    return 'groupe'+ str(i)\n",
    "dic = {}\n",
    "for i in range(3):\n",
    "    dic[groupe(i)] = []\n",
    "dic"
   ]
  },
  {
   "cell_type": "code",
   "execution_count": 29,
   "id": "5c67fd53-5a9c-464c-a0f5-1d32a9c2c2d9",
   "metadata": {},
   "outputs": [
    {
     "data": {
      "text/plain": [
       "{'groupe0': ['Bi Aline', 'Bi Thomas', 'Bush Kate'],\n",
       " 'groupe1': ['Buzz Paul', 'Dupond Xavier', 'Durand Lise'],\n",
       " 'groupe2': ['Durand Marie', 'Pot Bernard', 'Tian Lou', 'Valerie Pierre']}"
      ]
     },
     "execution_count": 29,
     "metadata": {},
     "output_type": "execute_result"
    }
   ],
   "source": [
    "taille = len(Etudiants)\n",
    "for i in range(taille):\n",
    "    if i < taille // 3:\n",
    "        numG = 0\n",
    "    elif (taille // 3) <= i < (2 * taille // 3):\n",
    "        numG = 1\n",
    "    else: numG = 2\n",
    "    liste = dic[groupe(numG)]\n",
    "    e = sortedL[i]\n",
    "    liste.append(e)\n",
    "dic"
   ]
  },
  {
   "cell_type": "code",
   "execution_count": 30,
   "id": "fd2d3c95-8b8d-4326-ad9c-bced91a79f81",
   "metadata": {},
   "outputs": [
    {
     "data": {
      "text/plain": [
       "{'Bi Aline': [4, 9, 5],\n",
       " 'Bi Thomas': [6, 9, 5],\n",
       " 'Bush Kate': [7, 9, 5],\n",
       " 'Buzz Paul': [8, 8, 6],\n",
       " 'Dupond Xavier': [9, 8, 6],\n",
       " 'Durand Lise': [9, 8, 6],\n",
       " 'Durand Marie': [5, 7, 6],\n",
       " 'Pot Bernard': [5, 7, 8],\n",
       " 'Tian Lou': [6, 7, 8],\n",
       " 'Valerie Pierre': [7, 7, 8]}"
      ]
     },
     "execution_count": 30,
     "metadata": {},
     "output_type": "execute_result"
    }
   ],
   "source": [
    "tab_1 = [4, 6, 7, 8, 9, 9, 5, 5, 6, 7]\n",
    "tab_2 = [9, 9, 9, 8, 8, 8, 7, 7, 7, 7]\n",
    "tab_3 = [5,5,5,6,6,6,6,8,8,8]\n",
    "dicNotes={}\n",
    "for i in range(len(tab_1)):\n",
    "    dicNotes[sortedL[i]]=[tab_1[i], tab_2[i], tab_3[i]]\n",
    "dicNotes"
   ]
  },
  {
   "cell_type": "code",
   "execution_count": 31,
   "id": "b88c46f3-f42f-457e-a712-3c232842a615",
   "metadata": {},
   "outputs": [
    {
     "name": "stdout",
     "output_type": "stream",
     "text": [
      "9\n",
      "Bi Aline\n"
     ]
    }
   ],
   "source": [
    "max_note = 0\n",
    "for k in dicNotes:\n",
    "    for j in dicNotes[k]:\n",
    "        if j > maxNote:\n",
    "            max_note = j\n",
    "            eleveRecherche = k\n",
    "print(maxNote)\n",
    "print(eleveRecherche) #Meilleure note"
   ]
  },
  {
   "cell_type": "markdown",
   "id": "88bbaf43-e5e9-4e82-acf0-dbc6a4e49fc8",
   "metadata": {},
   "source": [
    "... et en utilisant les classes vues plus haut :"
   ]
  },
  {
   "cell_type": "code",
   "execution_count": 32,
   "id": "3b2a7f77-11e7-4c8b-87eb-d3e3667496a0",
   "metadata": {},
   "outputs": [
    {
     "name": "stdout",
     "output_type": "stream",
     "text": [
      "[4, 9, 5, 6, 9, 5, 7, 9, 5, 8, 8, 6, 9, 8, 6, 9, 8, 6, 5, 7, 6, 5, 7, 8, 6, 7, 8, 7, 7, 8]\n"
     ]
    }
   ],
   "source": [
    "dicNotesOc = {}\n",
    "listeNotes = []\n",
    "for k in dicNotes:\n",
    "    for j in dicNotes[k]:\n",
    "            listeNotes.append(j)\n",
    "print(listeNotes)"
   ]
  },
  {
   "cell_type": "code",
   "execution_count": 33,
   "id": "345310eb-1859-45b4-816a-e54b19c7b9cd",
   "metadata": {},
   "outputs": [
    {
     "name": "stdout",
     "output_type": "stream",
     "text": [
      "valeurs:[4, 5, 5, 5, 5, 5, 6, 6, 6, 6, 6, 6, 7, 7, 7, 7, 7, 7, 8, 8, 8, 8, 8, 8, 8, 9, 9, 9, 9, 9] dic{4: 1, 9: 5, 5: 5, 6: 6, 7: 6, 8: 7}\n"
     ]
    }
   ],
   "source": [
    "bag = intBag()\n",
    "for k in dicNotes:\n",
    "    for j in dicNotes[k]:\n",
    "            bag.insert(j)\n",
    "print(bag)"
   ]
  }
 ],
 "metadata": {
  "kernelspec": {
   "display_name": "argopy-tests",
   "language": "python",
   "name": "argopy-tests"
  },
  "language_info": {
   "codemirror_mode": {
    "name": "ipython",
    "version": 3
   },
   "file_extension": ".py",
   "mimetype": "text/x-python",
   "name": "python",
   "nbconvert_exporter": "python",
   "pygments_lexer": "ipython3",
   "version": "3.8.13"
  }
 },
 "nbformat": 4,
 "nbformat_minor": 5
}
